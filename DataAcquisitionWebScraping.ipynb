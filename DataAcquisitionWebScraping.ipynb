{
 "cells": [
  {
   "cell_type": "code",
   "execution_count": 1,
   "metadata": {},
   "outputs": [],
   "source": [
    "from selenium import webdriver\n",
    "import time\n",
    "from selenium.webdriver.chrome.service import Service\n",
    "from webdriver_manager.chrome import ChromeDriverManager\n",
    "from selenium.webdriver.common.by import By\n",
    "from selenium.webdriver.support.ui import WebDriverWait\n",
    "from selenium.webdriver.support import expected_conditions as EC"
   ]
  },
  {
   "cell_type": "markdown",
   "metadata": {},
   "source": [
    "# Scraping Simpsons characters "
   ]
  },
  {
   "cell_type": "markdown",
   "metadata": {},
   "source": [
    "Scarping simpsons character from \"simpson.fandom.com\" with selenium, a python package."
   ]
  },
  {
   "cell_type": "code",
   "execution_count": 2,
   "metadata": {},
   "outputs": [],
   "source": [
    "with open('simpson_scraping_pagination.csv', 'w', encoding=\"utf-8\") as file:\n",
    "    file.write(\"Name\")\n",
    "\n",
    "driver = webdriver.Chrome(service=Service(ChromeDriverManager().install()))\n",
    "driver.get(\"https://simpsons.fandom.com/wiki/Category:Characters?from=A\")\n",
    "\n",
    "# Maximize window\n",
    "driver.maximize_window()\n",
    "time.sleep(1)\n",
    "\n",
    "\n",
    "# Accepts cookie (if it doesn't works try to change the first div[] with 7 or 6)\n",
    "cookie = driver.find_element(\"xpath\", \"/html/body/div[7]/div/div/div[2]/div[2]\")\n",
    "try:\n",
    "    cookie.click()\n",
    "except: \n",
    "    pass\n",
    "\n",
    "count = 0\n",
    "for k in range(30) :\n",
    "    items = driver.find_elements(By.CLASS_NAME, \"category-page__member-link\")\n",
    "    \n",
    "    \n",
    "    with open('simpson_scraping_pagination.csv', 'a', encoding=\"utf-8\") as file:\n",
    "        for i in range(len(items)) :\n",
    "            file.write(items[i].text + \"\\n\")\n",
    "        \n",
    "        if (count==0) :\n",
    "            next = driver.find_element(\"xpath\", \"//*[@id=\\\"mw-content-text\\\"]/div[3]/a[2]\")\n",
    "            next.click()\n",
    "            count = count + 1\n",
    "        elif (count>=1) :\n",
    "            next = driver.find_element(\"xpath\", \"//*[@id=\\\"mw-content-text\\\"]/div[3]/a[3]\")\n",
    "            next.click()\n",
    "            count = count + 1\n",
    "\n",
    "            \n",
    "    file.close()\n",
    "driver.close()\n"
   ]
  }
 ],
 "metadata": {
  "kernelspec": {
   "display_name": "Python 3.9.13 64-bit",
   "language": "python",
   "name": "python3"
  },
  "language_info": {
   "codemirror_mode": {
    "name": "ipython",
    "version": 3
   },
   "file_extension": ".py",
   "mimetype": "text/x-python",
   "name": "python",
   "nbconvert_exporter": "python",
   "pygments_lexer": "ipython3",
   "version": "3.9.13"
  },
  "orig_nbformat": 4,
  "vscode": {
   "interpreter": {
    "hash": "18b0eca292df7790ae02c99d513840323a4ed6febc80d490ebe22b975c5e1f10"
   }
  }
 },
 "nbformat": 4,
 "nbformat_minor": 2
}
