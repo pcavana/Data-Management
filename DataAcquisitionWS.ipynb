{
 "cells": [
  {
   "cell_type": "code",
   "execution_count": 1,
   "metadata": {},
   "outputs": [],
   "source": [
    "import pandas as pd\n",
    "from bs4 import BeautifulSoup\n",
    "import requests\n",
    "import selenium\n",
    "from tqdm import tqdm\n",
    "import json\n",
    "import re"
   ]
  },
  {
   "cell_type": "markdown",
   "metadata": {},
   "source": [
    "# Scraping Simpsons Characters"
   ]
  },
  {
   "cell_type": "code",
   "execution_count": 2,
   "metadata": {},
   "outputs": [],
   "source": [
    "link = \"https://simpsons.fandom.com//wiki/Category:Characters\"\n",
    "\n",
    "characters_link_list = []\n",
    "while link != None:\n",
    "    response = requests.get(link)\n",
    "    html_page = response.text\n",
    "    soup = BeautifulSoup(html_page)\n",
    "    results = soup.find_all(\"a\", class_=\"category-page__member-link\")\n",
    "    link = soup.find(\n",
    "        \"a\", class_=\"category-page__pagination-next wds-button wds-is-secondary\")\n",
    "    link = link[\"href\"] if link != None else None\n",
    "\n",
    "for result in results:\n",
    "    characters_link_list.append(\n",
    "        [result.text, \"https://simpsons.fandom.com\"+result[\"href\"]])\n"
   ]
  },
  {
   "cell_type": "code",
   "execution_count": 3,
   "metadata": {},
   "outputs": [],
   "source": [
    "lista_personaggi = pd.DataFrame(characters_link_list, columns=[\"Nome\", \"Link\"])"
   ]
  }
 ],
 "metadata": {
  "kernelspec": {
   "display_name": "Python 3.9.13 64-bit",
   "language": "python",
   "name": "python3"
  },
  "language_info": {
   "codemirror_mode": {
    "name": "ipython",
    "version": 3
   },
   "file_extension": ".py",
   "mimetype": "text/x-python",
   "name": "python",
   "nbconvert_exporter": "python",
   "pygments_lexer": "ipython3",
   "version": "3.9.13"
  },
  "orig_nbformat": 4,
  "vscode": {
   "interpreter": {
    "hash": "18b0eca292df7790ae02c99d513840323a4ed6febc80d490ebe22b975c5e1f10"
   }
  }
 },
 "nbformat": 4,
 "nbformat_minor": 2
}
